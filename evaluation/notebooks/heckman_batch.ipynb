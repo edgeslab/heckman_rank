{
 "cells": [
  {
   "cell_type": "code",
   "execution_count": 149,
   "metadata": {},
   "outputs": [],
   "source": [
    "import pdb\n",
    "import pandas as pd\n",
    "import numpy as np\n",
    "from sklearn.linear_model import LinearRegression\n",
    "from scipy.stats import norm\n",
    "import statsmodels.api as sm\n",
    "\n",
    "pd.options.mode.chained_assignment = None\n",
    "data_path = 'data/pickles/pop_eta1_third/'\n",
    "train_file = 'train_clicks_see%d_1.pkl'\n",
    "test_file = 'test_clicks_see%d_1.pkl'"
   ]
  },
  {
   "cell_type": "code",
   "execution_count": 88,
   "metadata": {},
   "outputs": [],
   "source": [
    "num_files = 30"
   ]
  },
  {
   "cell_type": "code",
   "execution_count": 89,
   "metadata": {},
   "outputs": [],
   "source": [
    "def probit(Y, X):\n",
    "    lr = LinearRegression()\n",
    "    lr.fit(X, Y)\n",
    "    return lr.coef_\n",
    "\n",
    "def inverse_mills(val):\n",
    "#     return norm.pdf(val) / (1 - norm.cdf(val))\n",
    "    return -norm.pdf(val) / norm.cdf(val)\n",
    "\n",
    "def OLS(Y, X):\n",
    "    N = X.shape[0]\n",
    "    lr = LinearRegression()\n",
    "    lr.fit(X, Y)\n",
    "    return lr.coef_"
   ]
  },
  {
   "cell_type": "code",
   "execution_count": 90,
   "metadata": {},
   "outputs": [],
   "source": [
    "def dump_psvm_file(data, props, filename, is_train=True):\n",
    "    import pdb\n",
    "    feat_off = 3 if is_train else 2\n",
    "    data = data.values\n",
    "#     pdb.set_trace()\n",
    "    with open(psvm_data_path + filename, 'w') as f:\n",
    "        for i in range(data.shape[0]):\n",
    "            row = data[i,:]\n",
    "            qid = str(int(row[0]))\n",
    "            relv = str(int(row[1]))\n",
    "            \n",
    "            feat = ' '.join(['%d:%0.6f' % (idx+1, val) for idx, val in enumerate(row[feat_off:]) if val > 1e-5])\n",
    "\n",
    "            line = relv + ' qid:' + qid\n",
    "            prop = props[i] if is_train else 1.0\n",
    "            if relv == '1':\n",
    "                line += ' cost:' + str(prop) + ' '\n",
    "            line += feat + '\\n'\n",
    "            f.write(line)\n",
    "            "
   ]
  },
  {
   "cell_type": "code",
   "execution_count": 92,
   "metadata": {},
   "outputs": [],
   "source": [
    "def heckman(train_file, test_file):\n",
    "    train = pd.read_pickle(data_path + train_file)\n",
    "    train['S'] = train['S'].astype(int)\n",
    "\n",
    "    test = pd.read_pickle(data_path + test_file)\n",
    "    test = test[test.columns.drop('S')]\n",
    "\n",
    "    X = train[train.columns.drop(['qid', 'C', 'S'])]\n",
    "    Y = train['S']\n",
    "\n",
    "    gamma = probit(Y, X)\n",
    "    delta = gamma.max() - gamma.min()\n",
    "    gamma = (gamma - gamma.min()) / delta\n",
    "\n",
    "    lambda_ = inverse_mills(np.matmul(X, gamma))\n",
    "\n",
    "    xcols = list(filter(lambda x: x[0] == 'X', train.columns))\n",
    "    \n",
    "    X = train[xcols]\n",
    "    Y = train['C']\n",
    "\n",
    "    params = OLS(Y, np.append(X, lambda_.reshape(-1,1), 1))[:-1]\n",
    "\n",
    "    X_test = test[xcols]\n",
    "    Eval = test[['qid', 'C']]\n",
    "    Eval['Relv'] = np.matmul(X_test, params)\n",
    "    \n",
    "    del train\n",
    "    del test\n",
    "    del gamma\n",
    "    \n",
    "    return Eval\n",
    "\n",
    "def eval(eval_data):\n",
    "    avg_rank = 0.0\n",
    "    cnt = 0\n",
    "    for name, group in eval_data.groupby(['qid']):\n",
    "        df = group\n",
    "        df['ranks'] = df['Relv'].rank(ascending=False).astype(int)\n",
    "        avg_rank += df[df['C'] == 1]['ranks'].mean()\n",
    "        cnt += 1\n",
    "    return avg_rank / cnt"
   ]
  },
  {
   "cell_type": "code",
   "execution_count": 150,
   "metadata": {},
   "outputs": [
    {
     "name": "stdout",
     "output_type": "stream",
     "text": [
      "done 0\n",
      "done 1\n",
      "done 2\n",
      "done 3\n",
      "done 4\n",
      "done 5\n",
      "done 6\n",
      "done 7\n",
      "done 8\n",
      "done 9\n",
      "done 10\n",
      "done 11\n",
      "done 12\n",
      "done 13\n",
      "done 14\n",
      "done 15\n",
      "done 16\n",
      "done 17\n",
      "done 18\n",
      "done 19\n",
      "done 20\n",
      "done 21\n",
      "done 22\n",
      "done 23\n",
      "done 24\n",
      "done 25\n",
      "done 26\n",
      "done 27\n",
      "done 28\n",
      "done 29\n"
     ]
    }
   ],
   "source": [
    "results = pd.DataFrame(columns=['seen', 'avg_rank'])\n",
    "\n",
    "scores = [0.0] * num_files\n",
    "for i in range(num_files):\n",
    "    fname_train = train_file % i\n",
    "    fname_test = test_file % i\n",
    "    eval_data = heckman(fname_train, fname_test)\n",
    "    scores[i] = eval(eval_data)\n",
    "    print('done %d' % i)\n",
    "\n",
    "results['avg_rank'] = scores\n",
    "results['seen'] = list(range(1, num_files+1))\n",
    "results\n",
    "\n",
    "results.to_csv('results/15_pass_heckman_pop_eta1_third.csv', index=None, header=None)"
   ]
  }
 ],
 "metadata": {
  "kernelspec": {
   "display_name": "Python 3",
   "language": "python",
   "name": "python3"
  },
  "language_info": {
   "codemirror_mode": {
    "name": "ipython",
    "version": 3
   },
   "file_extension": ".py",
   "mimetype": "text/x-python",
   "name": "python",
   "nbconvert_exporter": "python",
   "pygments_lexer": "ipython3",
   "version": "3.6.7"
  }
 },
 "nbformat": 4,
 "nbformat_minor": 2
}
