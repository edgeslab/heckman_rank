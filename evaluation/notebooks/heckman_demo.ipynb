{
 "cells": [
  {
   "cell_type": "markdown",
   "metadata": {},
   "source": [
    "## Heckman two stage method demo\n",
    "\n",
    "- Source: https://juliaeconomics.com/tag/heckman-correction/"
   ]
  },
  {
   "cell_type": "code",
   "execution_count": 13,
   "metadata": {},
   "outputs": [],
   "source": [
    "import pandas as pd\n",
    "import numpy as np\n",
    "from scipy.stats import norm\n",
    "from sklearn.linear_model import LinearRegression\n",
    "from sklearn.metrics import mean_squared_error\n",
    "\n",
    "%matplotlib inline\n",
    "import matplotlib.pyplot as plt\n",
    "\n",
    "pd.options.mode.chained_assignment = None"
   ]
  },
  {
   "cell_type": "markdown",
   "metadata": {},
   "source": [
    "### Utility functions\n",
    "\n",
    "- **gen_population**: Generates single variate random population data given population size N and covariates beta\n",
    "- **gen_sample**: Generates sample data given population data based on a biased selection policy\n",
    "- **OLS**: Ordinary Least Squares linear regression on given X, Y\n",
    "- **inverse_mills**: Inverse Mills Ratio"
   ]
  },
  {
   "cell_type": "code",
   "execution_count": 15,
   "metadata": {},
   "outputs": [],
   "source": [
    "def gen_population(N, beta, debug=False):\n",
    "    eps = np.random.normal(0.0, 1.0, N)\n",
    "    X = np.random.randn(N)\n",
    "    Y = beta[0] + beta[1] * X + eps\n",
    "    population_data = pd.DataFrame({'Y' : Y, 'X' : X, 'eps' : eps})\n",
    "    if debug: print('population data shape: (%d, %d)' % population_data.shape)\n",
    "    return population_data\n",
    "\n",
    "def gen_sample(population, debug=False):\n",
    "    selected = population['X'] > population['eps']\n",
    "    sample_data = pd.DataFrame({'Y' : population['Y'][selected], 'X' : population['X'][selected], 'eps' : population['eps'][selected]})\n",
    "    if debug: print('sample data shape: (%d, %d)' % sample_data.shape)\n",
    "    return sample_data\n",
    "\n",
    "def OLS(Y, X):\n",
    "    lr = LinearRegression()\n",
    "    lr.fit(X, Y)\n",
    "    return lr.intercept_[0], lr.coef_[0]\n",
    "\n",
    "def inverse_mills(val):\n",
    "    return -norm.pdf(val) / norm.cdf(val)"
   ]
  },
  {
   "cell_type": "code",
   "execution_count": 16,
   "metadata": {},
   "outputs": [
    {
     "data": {
      "text/plain": [
       "-0.79788456080286541"
      ]
     },
     "execution_count": 16,
     "metadata": {},
     "output_type": "execute_result"
    }
   ],
   "source": [
    "inverse_mills(0)"
   ]
  },
  {
   "cell_type": "markdown",
   "metadata": {},
   "source": [
    "### Heckman Correction"
   ]
  },
  {
   "cell_type": "code",
   "execution_count": 17,
   "metadata": {},
   "outputs": [],
   "source": [
    "def heckman(N, beta, debug=False):\n",
    "    # Generate Data\n",
    "    population_data = gen_population(N=N, beta=beta, debug=debug)\n",
    "    sample_data = gen_sample(population=population_data, debug=debug)\n",
    "    \n",
    "    if debug:\n",
    "        #Report Covariance of X and error term in population data\n",
    "        cov_pop = np.cov((population_data['X'], population_data['eps']))[0,1]\n",
    "        print('cov(X, eps) of population data: %0.4lf' % cov_pop)\n",
    "\n",
    "        #Report Covariance of X and error term in sample data, see the difference, need to reduce that\n",
    "        cov_sample = np.cov((sample_data['X'], sample_data['eps']))[0,1]\n",
    "        print('cov(X, eps) of sample data: %0.4lf' % cov_sample)\n",
    "\n",
    "    #Parameter estimation from original population data (should be close to original parameters)\n",
    "    beta = OLS(population_data['Y'].values.reshape(-1,1), population_data['X'].values.reshape(-1,1))\n",
    "    if debug: print('params (population): b0: %0.4lf, b1: %0.4lf' % (beta[0], beta[1]))\n",
    "\n",
    "    #Parameter estimation from sample data without correction (likely to be far off from original parameters)\n",
    "    beta_hat = OLS(sample_data['Y'].values.reshape(-1,1), sample_data['X'].values.reshape(-1,1))\n",
    "    if debug: print('params (sample) before correction => b0: %0.4lf, b1: %0.4lf' % (beta_hat[0], beta_hat[1]))\n",
    "    \n",
    "    #Parameter estimation from sample data with correction (likely to be close to original parameters)\n",
    "    sample_data['im'] = inverse_mills(sample_data['X'])\n",
    "    beta_hat = OLS(sample_data['Y'].values.reshape(-1,1), sample_data[['X', 'im']])\n",
    "    if debug: print('params (sample) after  correction => b0: %0.4lf, b1: %0.4lf' % (beta_hat[0], beta_hat[1][0]))\n",
    "    \n",
    "    return mean_squared_error(np.array(beta), np.array([beta_hat[0], beta_hat[1][0]]))"
   ]
  },
  {
   "cell_type": "markdown",
   "metadata": {},
   "source": [
    "### Example \n",
    "- **N** = 1000\n",
    "- **beta** = [0.0, 1.0]"
   ]
  },
  {
   "cell_type": "code",
   "execution_count": 18,
   "metadata": {},
   "outputs": [
    {
     "name": "stdout",
     "output_type": "stream",
     "text": [
      "population data shape: (1000, 3)\n",
      "sample data shape: (533, 3)\n",
      "cov(X, eps) of population data: 0.0444\n",
      "cov(X, eps) of sample data: 0.3469\n",
      "params (population): b0: -0.0467, b1: 1.0484\n",
      "params (sample) before correction => b0: -0.8295, b1: 1.5305\n",
      "params (sample) after  correction => b0: -0.0449, b1: 1.0649\n",
      "Mean Squared Error: 0.0001\n"
     ]
    }
   ],
   "source": [
    "print('Mean Squared Error: %0.4lf' % heckman(N=1000, beta=[0.0, 1.0], debug=True))"
   ]
  },
  {
   "cell_type": "markdown",
   "metadata": {},
   "source": [
    "### Experiment over different population sizes\n",
    "\n",
    "It shows that, larger the population better the effect"
   ]
  },
  {
   "cell_type": "code",
   "execution_count": 19,
   "metadata": {},
   "outputs": [
    {
     "data": {
      "image/png": "[encoded data removed]",
      "text/plain": [
       "<matplotlib.figure.Figure at 0x115b750d0>"
      ]
     },
     "metadata": {},
     "output_type": "display_data"
    }
   ],
   "source": [
    "population_sizes = [100, 200, 300, 400, 500, 1000, 2000, 3000, 5000]\n",
    "errors = [0] * len(population_sizes)\n",
    "\n",
    "for i,ps in enumerate(population_sizes):\n",
    "    e = heckman(N=ps, beta=[0.0, 1.0])\n",
    "    errors[i] = e\n",
    "\n",
    "pop_errors = pd.DataFrame({'Size' : population_sizes, 'MSE' : errors})\n",
    "p = pop_errors.plot(x='Size', y='MSE')\n",
    "p.set_title('Effect of Heckman correction')\n",
    "p.set_xlabel('Population Size');\n",
    "p.set_ylabel('MSE');"
   ]
  },
  {
   "cell_type": "markdown",
   "metadata": {},
   "source": [
    "#### Questions\n",
    "\n",
    "- How many samples needed in order to get an unbiased estimation of the parameters? \n",
    "- Is there any theoretical proof on that sample complexity?"
   ]
  }
 ],
 "metadata": {
  "kernelspec": {
   "display_name": "Python 2",
   "language": "python",
   "name": "python2"
  },
  "language_info": {
   "codemirror_mode": {
    "name": "ipython",
    "version": 2
   },
   "file_extension": ".py",
   "mimetype": "text/x-python",
   "name": "python",
   "nbconvert_exporter": "python",
   "pygments_lexer": "ipython2",
   "version": "2.7.14"
  }
 },
 "nbformat": 4,
 "nbformat_minor": 2
}
